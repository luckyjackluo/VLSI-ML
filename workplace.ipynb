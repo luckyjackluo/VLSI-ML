{
 "cells": [
  {
   "cell_type": "code",
   "execution_count": 10,
   "id": "413d8c2f",
   "metadata": {},
   "outputs": [],
   "source": [
    "import torch\n",
    "import torch.nn.functional as F\n",
    "import os\n",
    "from torch import nn\n",
    "from torch.nn import BatchNorm1d, ReLU, Linear, Sequential\n",
    "import numpy as np\n",
    "from torch_geometric.data import Data, InMemoryDataset, download_url\n",
    "from torch_geometric.nn import GCNConv, global_mean_pool, GATConv, GINConv, global_add_pool\n",
    "from torch.utils.data import DataLoader\n",
    "import networkx as nx\n",
    "from sklearn.preprocessing import OrdinalEncoder, OneHotEncoder\n",
    "\n",
    "from src.models.model import *\n",
    "from src.models.train import *\n",
    "from src.data.netlist import *"
   ]
  },
  {
   "cell_type": "code",
   "execution_count": 11,
   "id": "d81a7d38",
   "metadata": {},
   "outputs": [
    {
     "name": "stdout",
     "output_type": "stream",
     "text": [
      "The autoreload extension is already loaded. To reload it, use:\n",
      "  %reload_ext autoreload\n"
     ]
    }
   ],
   "source": [
    "%load_ext autoreload\n",
    "\n",
    "%autoreload 2"
   ]
  },
  {
   "cell_type": "code",
   "execution_count": 12,
   "id": "da0d9bfe",
   "metadata": {},
   "outputs": [
    {
     "name": "stderr",
     "output_type": "stream",
     "text": [
      "Processing...\n",
      "Done!\n"
     ]
    }
   ],
   "source": [
    "#here the path should be \n",
    "dataset = netlist(\"./\")"
   ]
  },
  {
   "cell_type": "code",
   "execution_count": null,
   "id": "731a3591",
   "metadata": {},
   "outputs": [],
   "source": []
  }
 ],
 "metadata": {
  "kernelspec": {
   "display_name": "Python 3 (ipykernel)",
   "language": "python",
   "name": "python3"
  },
  "language_info": {
   "codemirror_mode": {
    "name": "ipython",
    "version": 3
   },
   "file_extension": ".py",
   "mimetype": "text/x-python",
   "name": "python",
   "nbconvert_exporter": "python",
   "pygments_lexer": "ipython3",
   "version": "3.9.7"
  }
 },
 "nbformat": 4,
 "nbformat_minor": 5
}
